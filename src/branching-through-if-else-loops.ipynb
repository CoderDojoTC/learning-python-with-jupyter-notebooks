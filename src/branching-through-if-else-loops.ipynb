{
 "cells": [
  {
   "cell_type": "markdown",
   "metadata": {},
   "source": [
    "# Branching through IF-ELSE Loops"
   ]
  },
  {
   "cell_type": "code",
   "execution_count": 1,
   "metadata": {},
   "outputs": [
    {
     "data": {
      "text/plain": [
       "False"
      ]
     },
     "execution_count": 1,
     "metadata": {},
     "output_type": "execute_result"
    }
   ],
   "source": [
    "age=10\n",
    "height=1.5\n",
    "(age>0) and (height>53)"
   ]
  },
  {
   "cell_type": "markdown",
   "metadata": {},
   "source": [
    "***What is a Condition?***<br>\n",
    "A condition is a Boolean expression (a True or a False comparison) that helps computer decide which route to take when they reach a branch in code\n"
   ]
  },
  {
   "cell_type": "markdown",
   "metadata": {},
   "source": [
    "***ONE BRANCH***<br>\n",
    "The simplest branching command is an **IF** statement. It only has one branch, which computer takes when condition is True.\n"
   ]
  },
  {
   "cell_type": "code",
   "execution_count": 3,
   "metadata": {},
   "outputs": [
    {
     "name": "stdout",
     "output_type": "stream",
     "text": [
      "Is it dark outside? Y/NN\n"
     ]
    }
   ],
   "source": [
    "is_dark=input('Is it dark outside? Y/N')\n",
    "if is_dark=='Y':\n",
    "    print('Goodnight!!!')\n",
    "    "
   ]
  },
  {
   "cell_type": "markdown",
   "metadata": {},
   "source": [
    "***TWO BRANCHES*** <br>\n",
    "When one wants a program to do one thing when conditio is True and another thing when it's False, then you'll use **IF-ELSE** statement"
   ]
  },
  {
   "cell_type": "code",
   "execution_count": 6,
   "metadata": {},
   "outputs": [
    {
     "name": "stdout",
     "output_type": "stream",
     "text": [
      "Do you like Maths? Yes/NoOk\n",
      "I don't like Maths.\n"
     ]
    }
   ],
   "source": [
    "subject = input('Do you like Maths? Yes/No')\n",
    "if subject=='Yes':\n",
    "    print('I like Maths.')\n",
    "else:\n",
    "    print('I don\\'t like Maths.')"
   ]
  },
  {
   "cell_type": "markdown",
   "metadata": {},
   "source": [
    "***MULTIPLE BRANCHES***<br>\n",
    "When there are more 2 possible paths, the statement **elif** (short for \"else-if\") comes handy."
   ]
  },
  {
   "cell_type": "code",
   "execution_count": 10,
   "metadata": {},
   "outputs": [
    {
     "name": "stdout",
     "output_type": "stream",
     "text": [
      "What is the forecast for today? (Rain/Snow/Sun)Sun\n",
      "Remember your Sunglasses!\n"
     ]
    }
   ],
   "source": [
    "weather=input('What is the forecast for today? (Rain/Snow/Sun)')\n",
    "if weather == 'Rain' :\n",
    "    print('Remember your Umbrella!')\n",
    "elif weather == 'Snow' :\n",
    "    print('Remember your Wooly Gloves!')\n",
    "elif weather == 'Sun' :\n",
    "    print('Remember your Sunglasses!')\n",
    "else:\n",
    "    print('Invalid Input')"
   ]
  },
  {
   "cell_type": "code",
   "execution_count": 15,
   "metadata": {},
   "outputs": [
    {
     "name": "stdout",
     "output_type": "stream",
     "text": [
      "Please enter a number3\n",
      "Number is Less Than 5\n"
     ]
    }
   ],
   "source": [
    "num=int(input('Please enter a number'))\n",
    "if num>5 :\n",
    "    print('Number Exceeds 5')\n",
    "elif num<5 :\n",
    "    print('Number is Less Than 5')\n",
    "else :\n",
    "    print('Number is 5')"
   ]
  },
  {
   "cell_type": "code",
   "execution_count": 16,
   "metadata": {},
   "outputs": [],
   "source": [
    "if num>7 and num<9:\n",
    "    print('Number is 8')"
   ]
  },
  {
   "cell_type": "code",
   "execution_count": 17,
   "metadata": {},
   "outputs": [
    {
     "name": "stdout",
     "output_type": "stream",
     "text": [
      "Number is 1 or 3\n"
     ]
    }
   ],
   "source": [
    "if num==1 or num==3:\n",
    "    print('Number is 1 or 3')"
   ]
  },
  {
   "cell_type": "markdown",
   "metadata": {},
   "source": [
    "# Assignment"
   ]
  },
  {
   "cell_type": "markdown",
   "metadata": {},
   "source": [
    "**Think of Examples where you can use If-Else Loops**"
   ]
  },
  {
   "cell_type": "code",
   "execution_count": null,
   "metadata": {},
   "outputs": [],
   "source": []
  }
 ],
 "metadata": {
  "kernelspec": {
   "display_name": "Python 3",
   "language": "python",
   "name": "python3"
  },
  "language_info": {
   "codemirror_mode": {
    "name": "ipython",
    "version": 3
   },
   "file_extension": ".py",
   "mimetype": "text/x-python",
   "name": "python",
   "nbconvert_exporter": "python",
   "pygments_lexer": "ipython3",
   "version": "3.7.3"
  }
 },
 "nbformat": 4,
 "nbformat_minor": 2
}
