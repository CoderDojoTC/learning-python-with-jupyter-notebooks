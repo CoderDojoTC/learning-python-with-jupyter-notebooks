{
 "cells": [
  {
   "cell_type": "markdown",
   "metadata": {},
   "source": [
    "### Operators in Python"
   ]
  },
  {
   "cell_type": "markdown",
   "metadata": {},
   "source": [
    "What are operators in python?\n",
    "\n",
    "Operators are special symbols in Python that carry out arithmetic or logical computation. The value that the operator operates on is called the operand."
   ]
  },
  {
   "cell_type": "code",
   "execution_count": 4,
   "metadata": {},
   "outputs": [],
   "source": [
    "c=5-2"
   ]
  },
  {
   "cell_type": "code",
   "execution_count": 5,
   "metadata": {},
   "outputs": [
    {
     "name": "stdout",
     "output_type": "stream",
     "text": [
      "3\n"
     ]
    }
   ],
   "source": [
    "print(c)"
   ]
  },
  {
   "cell_type": "markdown",
   "metadata": {},
   "source": [
    "Here, - is the operator that performs subtraction. 5 and 2 are the operands and 3 is the output of the operation."
   ]
  },
  {
   "cell_type": "markdown",
   "metadata": {},
   "source": [
    "An operand can be either a literal value or a variable that references an object:"
   ]
  },
  {
   "cell_type": "code",
   "execution_count": 6,
   "metadata": {},
   "outputs": [
    {
     "data": {
      "text/plain": [
       "25"
      ]
     },
     "execution_count": 6,
     "metadata": {},
     "output_type": "execute_result"
    }
   ],
   "source": [
    "a=10\n",
    "b=20\n",
    "a+b-5"
   ]
  },
  {
   "cell_type": "markdown",
   "metadata": {},
   "source": [
    "A sequence of operands and operators, like a + b - 5, is called an expression. Python supports many operators for combining data objects into expressions. These are explored below."
   ]
  },
  {
   "cell_type": "markdown",
   "metadata": {},
   "source": [
    "**Types of Operator**\n",
    "\n",
    "Python language supports the following types of operators.\n",
    "\n",
    "- Arithmetic Operators\n",
    "- Comparison (Relational) Operators\n",
    "- Assignment Operators\n",
    "- Logical Operators\n",
    "- Bitwise Operators\n",
    "- Membership Operators\n",
    "- Identity Operators"
   ]
  },
  {
   "cell_type": "markdown",
   "metadata": {},
   "source": [
    "**Arithmetic & Assignment Operators**"
   ]
  },
  {
   "cell_type": "markdown",
   "metadata": {},
   "source": [
    "**Arithmetic operators:** Arithmetic operators are used to perform mathematical operations like addition, subtraction, multiplication and division."
   ]
  },
  {
   "cell_type": "markdown",
   "metadata": {},
   "source": [
    "+ (unary)\t+a\tUnary Positive\ta\n",
    "In other words, it doesn’t really do anything. It mostly exists for the sake of completeness, to complement Unary Negation."
   ]
  },
  {
   "cell_type": "markdown",
   "metadata": {},
   "source": [
    "| OPERATOR | DESCRIPTION | SYNTAX |\n",
    "| :-: | :-: | :-: |\n",
    "| + (unary) | Unary Positive, does nothing | +x |\n",
    "|  + (binary) | Addition: adds two operands | x + y |\n",
    "| - (unary) | Unary Negation, value with opposite sign | -x |\n",
    "| - (binary) | Subtraction: subtracts two operands | x - y |\n",
    "| * | Multiplication: multiplies two operands | x * y |\n",
    "| / | Division (float): divides the first operand by the second | x / y |\n",
    "| // | Division (floor): divides the first operand by the second | x // y |\n",
    "| % | Modulus: returns the remainder when first operand is divided by the second | x % y |\n",
    "| ** | Power : Returns first raised to power second | x ** y |"
   ]
  },
  {
   "cell_type": "code",
   "execution_count": 7,
   "metadata": {},
   "outputs": [
    {
     "data": {
      "text/plain": [
       "5"
      ]
     },
     "execution_count": 7,
     "metadata": {},
     "output_type": "execute_result"
    }
   ],
   "source": [
    "+5"
   ]
  },
  {
   "cell_type": "code",
   "execution_count": null,
   "metadata": {},
   "outputs": [],
   "source": []
  },
  {
   "cell_type": "code",
   "execution_count": 9,
   "metadata": {},
   "outputs": [
    {
     "data": {
      "text/plain": [
       "11"
      ]
     },
     "execution_count": 9,
     "metadata": {},
     "output_type": "execute_result"
    }
   ],
   "source": [
    "6+5"
   ]
  },
  {
   "cell_type": "code",
   "execution_count": 8,
   "metadata": {},
   "outputs": [
    {
     "data": {
      "text/plain": [
       "-5"
      ]
     },
     "execution_count": 8,
     "metadata": {},
     "output_type": "execute_result"
    }
   ],
   "source": [
    "-5"
   ]
  },
  {
   "cell_type": "code",
   "execution_count": 10,
   "metadata": {},
   "outputs": [
    {
     "data": {
      "text/plain": [
       "1"
      ]
     },
     "execution_count": 10,
     "metadata": {},
     "output_type": "execute_result"
    }
   ],
   "source": [
    "6-5"
   ]
  },
  {
   "cell_type": "code",
   "execution_count": 11,
   "metadata": {},
   "outputs": [
    {
     "data": {
      "text/plain": [
       "30"
      ]
     },
     "execution_count": 11,
     "metadata": {},
     "output_type": "execute_result"
    }
   ],
   "source": [
    "6*5"
   ]
  },
  {
   "cell_type": "code",
   "execution_count": 12,
   "metadata": {},
   "outputs": [
    {
     "data": {
      "text/plain": [
       "1.2"
      ]
     },
     "execution_count": 12,
     "metadata": {},
     "output_type": "execute_result"
    }
   ],
   "source": [
    "6/5"
   ]
  },
  {
   "cell_type": "code",
   "execution_count": 14,
   "metadata": {},
   "outputs": [
    {
     "data": {
      "text/plain": [
       "1.8"
      ]
     },
     "execution_count": 14,
     "metadata": {},
     "output_type": "execute_result"
    }
   ],
   "source": [
    "9/5"
   ]
  },
  {
   "cell_type": "code",
   "execution_count": 15,
   "metadata": {},
   "outputs": [
    {
     "data": {
      "text/plain": [
       "1"
      ]
     },
     "execution_count": 15,
     "metadata": {},
     "output_type": "execute_result"
    }
   ],
   "source": [
    "9//5"
   ]
  },
  {
   "cell_type": "code",
   "execution_count": 13,
   "metadata": {},
   "outputs": [
    {
     "data": {
      "text/plain": [
       "1"
      ]
     },
     "execution_count": 13,
     "metadata": {},
     "output_type": "execute_result"
    }
   ],
   "source": [
    "6//5"
   ]
  },
  {
   "cell_type": "code",
   "execution_count": 16,
   "metadata": {},
   "outputs": [
    {
     "data": {
      "text/plain": [
       "4"
      ]
     },
     "execution_count": 16,
     "metadata": {},
     "output_type": "execute_result"
    }
   ],
   "source": [
    "9%5"
   ]
  },
  {
   "cell_type": "code",
   "execution_count": 17,
   "metadata": {},
   "outputs": [
    {
     "data": {
      "text/plain": [
       "1"
      ]
     },
     "execution_count": 17,
     "metadata": {},
     "output_type": "execute_result"
    }
   ],
   "source": [
    "6%5"
   ]
  },
  {
   "cell_type": "code",
   "execution_count": 18,
   "metadata": {},
   "outputs": [
    {
     "data": {
      "text/plain": [
       "1.2"
      ]
     },
     "execution_count": 18,
     "metadata": {},
     "output_type": "execute_result"
    }
   ],
   "source": [
    "6/5"
   ]
  },
  {
   "cell_type": "code",
   "execution_count": 19,
   "metadata": {},
   "outputs": [
    {
     "data": {
      "text/plain": [
       "2.0"
      ]
     },
     "execution_count": 19,
     "metadata": {},
     "output_type": "execute_result"
    }
   ],
   "source": [
    "10/5"
   ]
  },
  {
   "cell_type": "code",
   "execution_count": 20,
   "metadata": {},
   "outputs": [
    {
     "data": {
      "text/plain": [
       "0"
      ]
     },
     "execution_count": 20,
     "metadata": {},
     "output_type": "execute_result"
    }
   ],
   "source": [
    "10%5"
   ]
  },
  {
   "cell_type": "code",
   "execution_count": 24,
   "metadata": {},
   "outputs": [
    {
     "data": {
      "text/plain": [
       "8"
      ]
     },
     "execution_count": 24,
     "metadata": {},
     "output_type": "execute_result"
    }
   ],
   "source": [
    "2**3"
   ]
  },
  {
   "cell_type": "code",
   "execution_count": 25,
   "metadata": {},
   "outputs": [
    {
     "data": {
      "text/plain": [
       "9"
      ]
     },
     "execution_count": 25,
     "metadata": {},
     "output_type": "execute_result"
    }
   ],
   "source": [
    "3**2"
   ]
  },
  {
   "cell_type": "code",
   "execution_count": 26,
   "metadata": {},
   "outputs": [
    {
     "name": "stdout",
     "output_type": "stream",
     "text": [
      "Line 1 - Value of c is 21\n",
      "Line 2 - Value of c is  31\n",
      "Line 3 - Value of c is -21\n",
      "Line 4 - Value of c is  11\n",
      "Line 5 - Value of c is  210\n",
      "Line 6 - Value of c is  2.1\n",
      "Line 7 - Value of c is  1\n",
      "Line 8 - Value of c is  8\n",
      "Line 9 - Value of c is  2\n"
     ]
    }
   ],
   "source": [
    "a = 21\n",
    "b = 10\n",
    "c=0\n",
    "\n",
    "c=+a\n",
    "print (\"Line 1 - Value of c is\",c)\n",
    "\n",
    "c = a + b\n",
    "print (\"Line 2 - Value of c is \", c)\n",
    "\n",
    "c=-a\n",
    "print (\"Line 3 - Value of c is\",c)\n",
    "\n",
    "c = a - b\n",
    "print (\"Line 4 - Value of c is \", c )\n",
    "\n",
    "c = a * b\n",
    "print (\"Line 5 - Value of c is \", c) \n",
    "\n",
    "c = a / b\n",
    "print (\"Line 6 - Value of c is \", c )\n",
    "\n",
    "c = a % b\n",
    "print (\"Line 7 - Value of c is \", c)\n",
    "\n",
    "a = 2\n",
    "b = 3\n",
    "c = a**b \n",
    "print (\"Line 8 - Value of c is \", c)\n",
    "\n",
    "a = 10\n",
    "b = 5\n",
    "c = a//b \n",
    "print (\"Line 9 - Value of c is \", c)"
   ]
  },
  {
   "cell_type": "markdown",
   "metadata": {},
   "source": [
    "**Assignment Operators**"
   ]
  },
  {
   "cell_type": "markdown",
   "metadata": {},
   "source": [
    "| Operator | Description | Example |\n",
    "| :-: | :-: | :-: |\n",
    "| = | Assigns values from right side operands to left side operand | c = a + b assigns value of a + b into c |\n",
    "| +=Add AND | It adds right operand to the left operand and assign the result to left operand | c += a is equivalent to c = c + a |\n",
    "| -= Subtract AND | It subtracts right operand from the left operand and assign the result to left operand | c -= a is equivalent to c = c - a |\n",
    "| *= Multiply AND | It multiplies right operand with the left operand and assign the result to left operand | c *= a is equivalent to c = c * a |\n",
    "| /= Divide AND | It divides left operand with the right operand and assign the result to left operand | c /= a is equivalent to c = c / a |\n",
    "| %= Modulus AND | It takes modulus using two operands and assign the result to left operand | c %= a is equivalent to c = c % a |\n",
    "| **= Exponent AND | Performs exponential (power) calculation on operators and assign value to the left operand | c **= a is equivalent to c = c ** a | \n",
    "| //= Floor Division | It performs floor division on operators and assign value to the left operand | c //= a is equivalent to c = c // a |"
   ]
  },
  {
   "cell_type": "code",
   "execution_count": 29,
   "metadata": {},
   "outputs": [],
   "source": [
    "c+=5"
   ]
  },
  {
   "cell_type": "code",
   "execution_count": null,
   "metadata": {},
   "outputs": [],
   "source": [
    "c=c+5"
   ]
  },
  {
   "cell_type": "code",
   "execution_count": 32,
   "metadata": {},
   "outputs": [
    {
     "data": {
      "text/plain": [
       "14"
      ]
     },
     "execution_count": 32,
     "metadata": {},
     "output_type": "execute_result"
    }
   ],
   "source": [
    "c-=5\n",
    "c"
   ]
  },
  {
   "cell_type": "code",
   "execution_count": 34,
   "metadata": {},
   "outputs": [],
   "source": [
    "c=19"
   ]
  },
  {
   "cell_type": "code",
   "execution_count": 35,
   "metadata": {},
   "outputs": [
    {
     "data": {
      "text/plain": [
       "14"
      ]
     },
     "execution_count": 35,
     "metadata": {},
     "output_type": "execute_result"
    }
   ],
   "source": [
    "c=c-5\n",
    "c"
   ]
  },
  {
   "cell_type": "code",
   "execution_count": 31,
   "metadata": {},
   "outputs": [
    {
     "data": {
      "text/plain": [
       "19"
      ]
     },
     "execution_count": 31,
     "metadata": {},
     "output_type": "execute_result"
    }
   ],
   "source": [
    "c"
   ]
  },
  {
   "cell_type": "code",
   "execution_count": 30,
   "metadata": {},
   "outputs": [
    {
     "name": "stdout",
     "output_type": "stream",
     "text": [
      "19\n"
     ]
    }
   ],
   "source": [
    "print(c)"
   ]
  },
  {
   "cell_type": "code",
   "execution_count": 36,
   "metadata": {},
   "outputs": [
    {
     "name": "stdout",
     "output_type": "stream",
     "text": [
      "Line 1 - Value of c is  31\n",
      "Line 2 - Value of c is  52\n",
      "Line 3 - Value of c is  1092\n",
      "Line 4 - Value of c is  52.0\n",
      "Line 5 - Value of c is  2\n",
      "Line 6 - Value of c is  2097152\n",
      "Line 7 - Value of c is  99864\n"
     ]
    }
   ],
   "source": [
    "a = 21\n",
    "b = 10\n",
    "c = 0\n",
    "\n",
    "c = a + b\n",
    "print (\"Line 1 - Value of c is \", c)\n",
    "\n",
    "c += a\n",
    "print (\"Line 2 - Value of c is \", c) \n",
    "\n",
    "c *= a\n",
    "print (\"Line 3 - Value of c is \", c )\n",
    "\n",
    "c /= a \n",
    "print (\"Line 4 - Value of c is \", c )\n",
    "\n",
    "c  = 2\n",
    "c %= a\n",
    "print (\"Line 5 - Value of c is \", c)\n",
    "\n",
    "c **= a\n",
    "print (\"Line 6 - Value of c is \", c)\n",
    "\n",
    "c //= a\n",
    "print (\"Line 7 - Value of c is \", c)"
   ]
  },
  {
   "cell_type": "markdown",
   "metadata": {},
   "source": [
    "**Comparison Operators**\n",
    "\n",
    "These operators compare the values on either sides of them and decide the relation among them. They are also called Relational operators.\n",
    "\n",
    "Example - a=10, b=20, then −\n",
    "\n",
    "| Operator | Description | Example |\n",
    "| :-: | :-: | :-: |\n",
    "| == | If the values of two operands are equal, then the condition becomes true. | (a == b) is not true. |\n",
    "| != | If values of two operands are not equal, then condition becomes true. | (a != b) is true. |\n",
    "| <> | If values of two operands are not equal, then condition becomes true. | (a <> b) is true. This is similar to != operator. | \n",
    "| > | If the value of left operand is greater than the value of right operand, then condition becomes true. | (a > b) is not true. |\n",
    "| < | If the value of left operand is less than the value of right operand, then condition becomes true. | (a < b) is true. | \n",
    "| >= | If the value of left operand is greater than or equal to the value of right operand, then condition becomes true. | (a >= b) is not true. | \n",
    "| <= | If the value of left operand is less than or equal to the value of right operand, then condition becomes true. | (a <= b) is true. |"
   ]
  },
  {
   "cell_type": "code",
   "execution_count": null,
   "metadata": {},
   "outputs": [],
   "source": [
    "x = 10\n",
    "y = 12\n",
    "\n",
    "# Output: x > y is False\n",
    "print('x > y is',x>y)\n",
    "\n",
    "# Output: x < y is True\n",
    "print('x < y is',x<y)\n",
    "\n",
    "# Output: x == y is False\n",
    "print('x == y is',x==y)\n",
    "\n",
    "# Output: x != y is True\n",
    "print('x != y is',x!=y)\n",
    "\n",
    "# Output: x >= y is False\n",
    "print('x >= y is',x>=y)\n",
    "\n",
    "# Output: x <= y is True\n",
    "print('x <= y is',x<=y)"
   ]
  },
  {
   "cell_type": "markdown",
   "metadata": {},
   "source": [
    "**Logical Operators**\n",
    "\n",
    "a=10, b=20\n",
    "\n",
    "| Operator | Description | Example |\n",
    "| :-: | :-: | :-: |\n",
    "| and Logical AND | If both the operands are true then condition becomes true. | (a and b) is true. |\n",
    "| or Logical OR | If any of the two operands are non-zero then condition becomes true. | (a or b) is true. |\n",
    "| not Logical NOT | Used to reverse the logical state of its operand. | Not(a and b) is false. |"
   ]
  },
  {
   "cell_type": "markdown",
   "metadata": {},
   "source": [
    "**Membership Operators**\n",
    "\n",
    "Python’s membership operators test for membership in a sequence, such as strings, lists, or tuples. \n",
    "There are two membership operators as explained below −\n",
    "\n",
    "\n",
    "| Operator | Description | Example |\n",
    "| :-: | :-: | :-: |\n",
    "| in | Evaluates to true if it finds a variable in the specified sequence and false otherwise. | x in y, here in results in a 1 if x is a member of sequence y. | \n",
    "| not in | Evaluates to true if it does not finds a variable in the specified sequence and false otherwise. | x not in y, here not in results in a 1 if x is not a member of sequence y. |"
   ]
  },
  {
   "cell_type": "code",
   "execution_count": 1,
   "metadata": {},
   "outputs": [
    {
     "name": "stdout",
     "output_type": "stream",
     "text": [
      "Line 1 - a is not available in the given list\n",
      "Line 2 - b is not available in the given list\n",
      "Line 3 - a is available in the given list\n"
     ]
    }
   ],
   "source": [
    "a = 10\n",
    "b = 20\n",
    "list = [1, 2, 3, 4, 5 ];\n",
    "\n",
    "if ( a in list ):\n",
    "   print (\"Line 1 - a is available in the given list\")\n",
    "else:\n",
    "   print (\"Line 1 - a is not available in the given list\")\n",
    "\n",
    "if ( b not in list ):\n",
    "   print (\"Line 2 - b is not available in the given list\")\n",
    "else:\n",
    "   print (\"Line 2 - b is available in the given list\")\n",
    "\n",
    "a = 2\n",
    "if ( a in list ):\n",
    "   print (\"Line 3 - a is available in the given list\")\n",
    "else:\n",
    "   print (\"Line 3 - a is not available in the given list\")"
   ]
  },
  {
   "cell_type": "markdown",
   "metadata": {},
   "source": [
    "**Identity Operators**\n",
    "\n",
    "Identity operators compare the memory locations of two objects. \n",
    "There are two Identity operators explained below −\n",
    "\n",
    "| Operator | Description | Example | \n",
    "| :-: | :-: | :-: |\n",
    "| is | Evaluates to true if the variables on either side of the operator point to the same object and false otherwise. | x is y, here is results in 1 if id(x) equals id(y). |\n",
    "| is not | Evaluates to false if the variables on either side of the operator point to the same object and true otherwise. | x is not y, here is not results in 1 if id(x) is not equal to id(y). |\n"
   ]
  },
  {
   "cell_type": "code",
   "execution_count": 2,
   "metadata": {},
   "outputs": [
    {
     "name": "stdout",
     "output_type": "stream",
     "text": [
      "Line 1 - a and b have same identity\n",
      "Line 2 - a and b have same identity\n",
      "Line 3 - a and b do not have same identity\n",
      "Line 4 - a and b do not have same identity\n"
     ]
    }
   ],
   "source": [
    "a = 20\n",
    "b = 20\n",
    "\n",
    "if ( a is b ):\n",
    "   print (\"Line 1 - a and b have same identity\")\n",
    "else:\n",
    "   print (\"Line 1 - a and b do not have same identity\")\n",
    "\n",
    "if ( id(a) == id(b) ):\n",
    "   print (\"Line 2 - a and b have same identity\")\n",
    "else:\n",
    "   print (\"Line 2 - a and b do not have same identity\")\n",
    "\n",
    "b = 30\n",
    "if ( a is b ):\n",
    "   print (\"Line 3 - a and b have same identity\")\n",
    "else:\n",
    "   print (\"Line 3 - a and b do not have same identity\")\n",
    "\n",
    "if ( a is not b ):\n",
    "   print (\"Line 4 - a and b do not have same identity\")\n",
    "else:\n",
    "   print (\"Line 4 - a and b have same identity\")"
   ]
  },
  {
   "cell_type": "code",
   "execution_count": null,
   "metadata": {},
   "outputs": [],
   "source": []
  }
 ],
 "metadata": {
  "kernelspec": {
   "display_name": "Python 3",
   "language": "python",
   "name": "python3"
  },
  "language_info": {
   "codemirror_mode": {
    "name": "ipython",
    "version": 3
   },
   "file_extension": ".py",
   "mimetype": "text/x-python",
   "name": "python",
   "nbconvert_exporter": "python",
   "pygments_lexer": "ipython3",
   "version": "3.7.3"
  }
 },
 "nbformat": 4,
 "nbformat_minor": 2
}
